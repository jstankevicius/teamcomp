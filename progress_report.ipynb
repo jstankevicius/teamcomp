{
 "cells": [
  {
   "cell_type": "markdown",
   "id": "41977a74",
   "metadata": {},
   "source": [
    "# CS 418 Progress Report\n",
    "\n",
    "### Group members: Justas Stankevicius, Neeraj Rawat, Xiudeng Zhang, Hsien-Hao Chang, Vlad Muradov"
   ]
  },
  {
   "cell_type": "markdown",
   "id": "0bb7f090",
   "metadata": {},
   "source": [
    "## Introduction\n",
    "\n",
    "League of Legends is a team-based MOBA (multiplayer online battle arena) game developed by Riot Games. In League of Legends, teams of 5 players battle against each other in an attempt to destroy the other team's base. Each player plays a *champion* - an in-game character with specific abilities, strenghts, and weaknesses. Each champion is suited for different roles - some are best at dealing lots of damage to the enemy team (at the expense of being very \"squishy\" - that is, not having many health points or defensive capabilities), while others can sustain lots of damage but can't accomplish much without their teammates' help.\n",
    "\n",
    "Some examples of champions:\n",
    "* **Annie** - a child capable of wielding fire magic, Annie is a mage capable of dealing lots of damage at close range. She is best at killing champions with low defense, but has little to no mobility and can be easily killed if the enemy team focuses on her.\n",
    "* **Malphite** - a literal walking mountain, Malphite is the quintessential League of Legends \"tank\", a champion capable of enduring thousands of points of damage without blinking. Malphite's abilities allow him to ram into the enemy team and knock everyone he hits into the air, enabling more powerful members of his team to come in and deal damage. However, Malphite's weakness is his low damage, meaning he generally cannot win fights on his own. He is also much better suited to dealing with physical damage (think swords and bullets) than magic damage (fireballs, curses, etc).\n",
    "* **Varus** - a bow-wielding demon with two souls trapped in its body, Varus dishes out physical damage from afar, \"poking\" the enemy team with his powerful arrows. Varus does best when protected by someone else on his own team, as his low mobility, low health, and high damage mean that he tends to be the enemy team's focus in a fight. He is also able to launch an arrow that immobilizes enemy champions, rooting them in place.\n",
    "\n",
    "Killing enemy players grants your team gold (which can be used to purchase powerful items) and experience (which makes your character stronger directly).\n",
    "\n",
    "Each of the 5 players in a team occupies a specific role. These roles are generally thought of in terms of which of the 3 \"lanes\" the person plays in. They are:\n",
    "* **Top** - top lane is generally a place for \"tanks\" (champions with very high defense but low damage) and \"bruisers\" (champions with medium defense, but ability to deal out damage if needed). Top laners tend to play on their own until the middle of the game.\n",
    "* **Jungle** - the \"jungle\" is simply the space between all the lanes. In the jungle live various monsters, which the \"jungler\" can kill for gold and experience points. The jungler's priority is to launch surprise attacks (\"ganks\") into the enemy team's lanes and kill the enemy with the help of other players.\n",
    "* **Mid** - the middle lane is primarily occupied by \"carries\", characters whose job it is to deal as much damage as possible and get as many kills as possible. \"Carry\" comes from \"carrying the team on your shoulders\", which indicates a carry as one of the most important players on the team. Technically, any champion can become a carry (you simply need to get lots of kills and gain an advantage over the enemy team), but some champions are more suited for this purpose than others.\n",
    "* **Bot** - the bottom lane is generally occupied by two players from each team, the \"carry\" and the \"support\". However, \"bot\" generally refers to the carry, who plays a champion with very high physical damage (like Varus from the example above).\n",
    "* **Support** - the support player's role is to aid their lane partner in engaging in fights, healing them, and granting them temporary powers. They funnel as many resources as they can into the carry, in hopes that the carry becomes powerful enough to kill the entire enemy team.\n",
    "\n",
    "Although some champions are strong individually, they need to synergize with other champions on their team to truly shine. This leads us to the topic of \"team composition\", which is simply defined as the set of champions played by a team. Team composition also takes into consideration the role the champion is played in. For example, a champion like Varus is suited to playing in the bottom lane, but would probably do poorly in the jungle. Team composition can often give an indication of which team is more likely to win a game. There is even a saying in professional League of Legends that teams can \"lose the game in draft\", meaning create a team composition that does not synergize well, and thus lose the game.\n",
    "\n",
    "As a quick example, here is a simple team composition:\n",
    "* Top lane: Nasus\n",
    "* Jungle: Nocturne\n",
    "* Mid lane: Annie\n",
    "* Bot lane: Varus\n",
    "* Support: Nautilus\n",
    "\n",
    "The \"perfect\" team composition probably does not exist, but team composition tends to boil down to one concept - diversification. In investing, one is generally advised to diversify their portfolio to improve their risk-adjusted returns. And although everyone creating their dream fantasy NBA team would *love* to have every player be Michael Jordan, such a team would most likely lose all of their games due to every player being a shooting guard. The same concept applies to League of Legends team compositions - picking champions that are all good at the same thing means the enemy team can easily counter your composition. For example, if your team consists of champions that only deal magic damage, the enemy team will most likely buy items that increase their magic resistance. Similarly, if everyone on your team has very high defense but low offense, the enemy team will simply out-damage you and win every fight. The solution is to pick champions that excel in different things, but can still synergize. A good team composition tends to include an even mix of physical and magical damage, has at least one champion that can engage in fights (preferably two), a bottom lane with high damage output, and a top lane that can either sustain lots of damage (a tank) or one that can provide both damage and defense in a fight.\n",
    "\n",
    "When a player does well on their champion, they are rewarded at the end of the match with \"mastery points\". Think of these are experience points - the higher a player's mastery score on a champion, the more experienced they are at playing that champion. If two players play the same champion (which is not actually allowed, but indulge me in this example) and one has a much higher mastery score than the other, we can assume that, on average, the player with the higher mastery score will win.\n",
    "\n",
    "With all that context out of the way, we can begin describing the purpose of our project. The objective is simple - **given two teams and certain information about each player (like the champion played by the player and the player's mastery score on that champion), we would like to predict the team most likely to win the game.** We would like to not only consider team compositions that synergize well, but also how good each player is at playing that champion."
   ]
  },
  {
   "cell_type": "markdown",
   "id": "749233b6",
   "metadata": {},
   "source": [
    "## Changes Since the Initial Proposal\n",
    "\n",
    "We have made minor changes since the initial proposal. Although the initial proposal wanted to consider a player's \"rank\" (i.e. a player's skill relative to all other players in League of Legends) as a proxy for general skill, we discovered that a rank was too general of a measure, and opted to keep track of a player's mastery score on each champion instead. The total mastery score for a player, across all champions, should rise roughly in line with their rank in the game. The main selling point is that per-champion mastery scores allow us to understand what kinds of roles a player might prefer (for example, if a player has low mastery of champions that play in the bottom lane, they would probably do poorly if put in a situation where they have to play in that lane), as well as how good they are at champions within those roles. It would have been great to have both a player's rank and mastery scores, but collecting this much data would have taken about twice as long.\n",
    "\n",
    "**tl;dr**: We no longer consider a player's rank and are instead considering a player's mastery scores for each champion, as that gives a better insight into their skill level for each champion."
   ]
  },
  {
   "cell_type": "markdown",
   "id": "fac93b91",
   "metadata": {},
   "source": [
    "## Data\n",
    "\n",
    "Data is collected using the Riot Games API, which allows of to query for things like a player's match history, the players that played in a particular match, what champions they played, etc. To continuously collect data, we implement a simple breadth-first search algorithm that operates as follows:\n",
    "1. Start off with a single player. We call them `seed_player`. Initialize a queue that will hold a set of match IDs.\n",
    "2. Get `seed_player`'s match history and put it onto the queue.\n",
    "3. Looping forever, get the next match in the queue and process the relevant information from it. Do this only if we have not processed the match before.\n",
    "4. If the queue is empty, add the match histories of the players from the last processed match to the queue and go to step 3.\n",
    "\n",
    "Since this algorithm can be trivially paralellized, we utilize multiple API keys on different threads to get around the API's rate limit.\n",
    "\n",
    "The data is stored in a SQLite database using the schema defined in `schema.sql`. The most important tables are `Matches`, which contains basic information about a match (such as who won, when the match was played, etc), `Participants` (which includes information about each player in a match, like what champion they played, how many kills they got, how many times they died, etc), and `ChampionMastery` (which contains mastery point information for each player for each champion)."
   ]
  },
  {
   "cell_type": "markdown",
   "id": "52239e40",
   "metadata": {},
   "source": [
    "## Exploratory Data Analysis\n",
    "\n",
    "We would like to understand some basic things about the data. Two questions are fairly interesting to ask - is there an advantage to playing on a particular team (blue or red), and what are the champions with the highest and lowest win rates?"
   ]
  },
  {
   "cell_type": "code",
   "execution_count": null,
   "id": "67a100fb",
   "metadata": {},
   "outputs": [],
   "source": [
    "import sqlite3\n",
    "import pandas as pd\n",
    "import seaborn as sns\n",
    "import numpy as np\n",
    "%matplotlib inline\n",
    "import matplotlib.pyplot as plt\n",
    "\n",
    "db_conn = sqlite3.connect(\"league_analysis.db\")"
   ]
  },
  {
   "cell_type": "code",
   "execution_count": null,
   "id": "43576ba3",
   "metadata": {},
   "outputs": [],
   "source": [
    "# Simple test: How many champions are there in total?\n",
    "sql = \"SELECT COUNT(championName) as total_champions FROM Champions\"\n",
    "pd.read_sql(sql, con=db_conn)"
   ]
  },
  {
   "cell_type": "markdown",
   "id": "9df07a0d",
   "metadata": {},
   "source": [
    "Let's compare win rates for each team to see if there is an advantage to playing on a particular team. We expect both win rates to be very close to 50%, but with an extremely large sample size like ours, the difference in win rate is likely to be statistically significant."
   ]
  },
  {
   "cell_type": "code",
   "execution_count": null,
   "id": "4ebf6824",
   "metadata": {},
   "outputs": [],
   "source": [
    "sql2 = \"SELECT SUM(winner = 100) AS blue_wins, SUM(winner = 200) AS red_wins FROM Matches\"\n",
    "df = pd.read_sql(sql2, con=db_conn)\n",
    "df = pd.melt(df)\n",
    "df.rename(columns={\"variable\": \"Team\", \"value\": \"number of games won\"})\n",
    "print(df)"
   ]
  },
  {
   "cell_type": "code",
   "execution_count": null,
   "id": "726fa89b",
   "metadata": {},
   "outputs": [],
   "source": [
    "ax = sns.barplot(x =\"variable\", y=\"value\", data=df)\n",
    "plt.title(\"Win Rate for Each Side\")\n",
    "plt.xlabel(\"Team\")\n",
    "plt.ylabel(\"Numbers of Game Each Team Won\")"
   ]
  },
  {
   "cell_type": "code",
   "execution_count": null,
   "id": "afcd9b4e",
   "metadata": {},
   "outputs": [],
   "source": [
    "# win rate for each champoin\n",
    "sql3 = (\"SELECT ch.championName, COUNT(m.winner) as games_won_by_champ FROM Champions as ch JOIN Participants as p on ch.championId = p.championId JOIN Matches as m on p.matchId = m.matchId WHERE m.winner = p.teamId GROUP BY ch.championName ORDER BY championName ASC\")\n",
    "df1 = pd.read_sql(sql3, con = db_conn)\n",
    "# print(df)\n",
    "sql4 = \"select Champions.championName, count(*) as total from Participants join Champions on Participants.championId == Champions.championId join Matches on Matches.matchId == Participants.matchId group by championName Order BY championName\"\n",
    "df2 = pd.read_sql(sql4, con = db_conn)\n",
    "# print(df2)\n",
    "dataframe = pd.DataFrame().assign(ChampionName=df1['championName'], gamesWon=df1['games_won_by_champ'], total=df2['total'])\n",
    "dataframe['percentage'] = np.nan\n",
    "dataframe['percentage'] = dataframe['gamesWon']/dataframe['total'] * 100\n",
    "dataframe['percentage'] = dataframe['percentage'].apply(lambda x: round(x, 2))\n",
    "dataframe\n"
   ]
  },
  {
   "cell_type": "code",
   "execution_count": null,
   "id": "2843647e",
   "metadata": {},
   "outputs": [],
   "source": [
    "dataframe = dataframe.sort_values(['percentage'], ascending = False).reset_index(drop=True)\n",
    "top10 = dataframe\n",
    "top10 = top10.head(10)\n",
    "ax = sns.barplot(x = 'ChampionName', y= 'percentage', data=top10)\n",
    "ax.set_ylim(52, 55)\n",
    "ax.set_xticklabels(ax.get_xticklabels(), rotation=40, ha='right')\n",
    "ax.set_title(\"Top 10 Highest Winrate Champions\")\n",
    "ax.set_ylabel(\"Win Rate(%)\")\n",
    "ax.set_xlabel(\"Champion Name\")\n",
    "print(top10)"
   ]
  },
  {
   "cell_type": "code",
   "execution_count": null,
   "id": "590f1dc8",
   "metadata": {},
   "outputs": [],
   "source": [
    "# These are top 10 win rate chaimpions, if we want to win the game, probably we want to choose from them."
   ]
  },
  {
   "cell_type": "code",
   "execution_count": null,
   "id": "97cef1a1",
   "metadata": {},
   "outputs": [],
   "source": [
    "low10 = dataframe\n",
    "low10 = low10.tail(10)\n",
    "ax = sns.barplot(x = 'ChampionName', y= 'percentage', data=low10)\n",
    "ax.set_ylim(43, 47)\n",
    "ax.set_xticklabels(ax.get_xticklabels(), rotation=40, ha='right')\n",
    "ax.set_title(\"Top 10 Lowest Winrate Champions\")\n",
    "ax.set_ylabel(\"Win Rate(%)\")\n",
    "ax.set_xlabel(\"Champion Name\")\n",
    "print(low10)"
   ]
  },
  {
   "cell_type": "code",
   "execution_count": null,
   "id": "3540f29e",
   "metadata": {},
   "outputs": [],
   "source": [
    "# These are lowest win rate champions, if we want to win the game, don't choose from them, they are trash."
   ]
  },
  {
   "cell_type": "code",
   "execution_count": null,
   "id": "56b66239",
   "metadata": {},
   "outputs": [],
   "source": []
  }
 ],
 "metadata": {
  "kernelspec": {
   "display_name": "Python 3.8.10 64-bit",
   "language": "python",
   "name": "python3"
  },
  "language_info": {
   "codemirror_mode": {
    "name": "ipython",
    "version": 3
   },
   "file_extension": ".py",
   "mimetype": "text/x-python",
   "name": "python",
   "nbconvert_exporter": "python",
   "pygments_lexer": "ipython3",
   "version": "3.8.10"
  },
  "vscode": {
   "interpreter": {
    "hash": "e7370f93d1d0cde622a1f8e1c04877d8463912d04d973331ad4851f04de6915a"
   }
  }
 },
 "nbformat": 4,
 "nbformat_minor": 5
}
