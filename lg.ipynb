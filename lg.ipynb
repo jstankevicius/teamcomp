{
 "cells": [
  {
   "cell_type": "code",
   "execution_count": 23,
   "id": "fc479460",
   "metadata": {},
   "outputs": [],
   "source": [
    "import sqlite3\n",
    "import pandas as pd\n",
    "import seaborn as sns\n",
    "import numpy as np\n",
    "%matplotlib inline\n",
    "import matplotlib.pyplot as plt"
   ]
  },
  {
   "cell_type": "code",
   "execution_count": 3,
   "id": "67a100fb",
   "metadata": {},
   "outputs": [],
   "source": [
    "# create a connection to local db file"
   ]
  },
  {
   "cell_type": "code",
   "execution_count": 4,
   "id": "43576ba3",
   "metadata": {},
   "outputs": [],
   "source": [
    "db_conn = sqlite3.connect(\"league.db\")"
   ]
  },
  {
   "cell_type": "code",
   "execution_count": 5,
   "id": "7943d96e",
   "metadata": {},
   "outputs": [],
   "source": [
    "# simple test: how many champions in total"
   ]
  },
  {
   "cell_type": "code",
   "execution_count": 7,
   "id": "7681474a",
   "metadata": {},
   "outputs": [
    {
     "data": {
      "text/html": [
       "<div>\n",
       "<style scoped>\n",
       "    .dataframe tbody tr th:only-of-type {\n",
       "        vertical-align: middle;\n",
       "    }\n",
       "\n",
       "    .dataframe tbody tr th {\n",
       "        vertical-align: top;\n",
       "    }\n",
       "\n",
       "    .dataframe thead th {\n",
       "        text-align: right;\n",
       "    }\n",
       "</style>\n",
       "<table border=\"1\" class=\"dataframe\">\n",
       "  <thead>\n",
       "    <tr style=\"text-align: right;\">\n",
       "      <th></th>\n",
       "      <th>total_champions</th>\n",
       "    </tr>\n",
       "  </thead>\n",
       "  <tbody>\n",
       "    <tr>\n",
       "      <th>0</th>\n",
       "      <td>161</td>\n",
       "    </tr>\n",
       "  </tbody>\n",
       "</table>\n",
       "</div>"
      ],
      "text/plain": [
       "   total_champions\n",
       "0              161"
      ]
     },
     "execution_count": 7,
     "metadata": {},
     "output_type": "execute_result"
    }
   ],
   "source": [
    "sql = \"SELECT COUNT(championName) as total_champions FROM Champions\"\n",
    "pd.read_sql(sql, con = db_conn)"
   ]
  },
  {
   "cell_type": "code",
   "execution_count": null,
   "id": "392dfee8",
   "metadata": {},
   "outputs": [],
   "source": [
    "# total matches, # of games that red/blue team win"
   ]
  },
  {
   "cell_type": "code",
   "execution_count": 32,
   "id": "4ebf6824",
   "metadata": {},
   "outputs": [
    {
     "name": "stdout",
     "output_type": "stream",
     "text": [
      "        variable  value\n",
      "0    total_games  43995\n",
      "1  blue_team_win  22030\n",
      "2   red_team_win  21965\n"
     ]
    }
   ],
   "source": [
    "sql2 = \"SELECT COUNT(matchId) as total_games, SUM(winner = 100) AS blue_team_win, SUM(winner = 200) AS red_team_win FROM Matches\"\n",
    "df = pd.read_sql(sql2 ,con = db_conn)\n",
    "df = pd.melt(df)\n",
    "print(df)"
   ]
  },
  {
   "cell_type": "code",
   "execution_count": 34,
   "id": "726fa89b",
   "metadata": {},
   "outputs": [
    {
     "data": {
      "text/plain": [
       "Text(0, 0.5, 'Numbers of Game Each Team Won')"
      ]
     },
     "execution_count": 34,
     "metadata": {},
     "output_type": "execute_result"
    },
    {
     "data": {
      "image/png": "[encoded data removed]",
      "text/plain": [
       "<Figure size 640x480 with 1 Axes>"
      ]
     },
     "metadata": {},
     "output_type": "display_data"
    }
   ],
   "source": [
    "ax = sns.barplot(x = 'variable', y= 'value', data=df)\n",
    "plt.title(\"Win Rate for Each Side\")\n",
    "plt.xlabel(\"team\")\n",
    "plt.ylabel(\"Numbers of Game Each Team Won\")"
   ]
  },
  {
   "cell_type": "code",
   "execution_count": 31,
   "id": "afcd9b4e",
   "metadata": {},
   "outputs": [
    {
     "data": {
      "text/html": [
       "<div>\n",
       "<style scoped>\n",
       "    .dataframe tbody tr th:only-of-type {\n",
       "        vertical-align: middle;\n",
       "    }\n",
       "\n",
       "    .dataframe tbody tr th {\n",
       "        vertical-align: top;\n",
       "    }\n",
       "\n",
       "    .dataframe thead th {\n",
       "        text-align: right;\n",
       "    }\n",
       "</style>\n",
       "<table border=\"1\" class=\"dataframe\">\n",
       "  <thead>\n",
       "    <tr style=\"text-align: right;\">\n",
       "      <th></th>\n",
       "      <th>ChampionName</th>\n",
       "      <th>gamesWon</th>\n",
       "      <th>total</th>\n",
       "      <th>percentage</th>\n",
       "    </tr>\n",
       "  </thead>\n",
       "  <tbody>\n",
       "    <tr>\n",
       "      <th>0</th>\n",
       "      <td>Aatrox</td>\n",
       "      <td>2491</td>\n",
       "      <td>4924</td>\n",
       "      <td>50.59</td>\n",
       "    </tr>\n",
       "    <tr>\n",
       "      <th>1</th>\n",
       "      <td>Ahri</td>\n",
       "      <td>1383</td>\n",
       "      <td>2843</td>\n",
       "      <td>48.65</td>\n",
       "    </tr>\n",
       "    <tr>\n",
       "      <th>2</th>\n",
       "      <td>Akali</td>\n",
       "      <td>2590</td>\n",
       "      <td>5410</td>\n",
       "      <td>47.87</td>\n",
       "    </tr>\n",
       "    <tr>\n",
       "      <th>3</th>\n",
       "      <td>Akshan</td>\n",
       "      <td>820</td>\n",
       "      <td>1694</td>\n",
       "      <td>48.41</td>\n",
       "    </tr>\n",
       "    <tr>\n",
       "      <th>4</th>\n",
       "      <td>Alistar</td>\n",
       "      <td>567</td>\n",
       "      <td>1135</td>\n",
       "      <td>49.96</td>\n",
       "    </tr>\n",
       "    <tr>\n",
       "      <th>...</th>\n",
       "      <td>...</td>\n",
       "      <td>...</td>\n",
       "      <td>...</td>\n",
       "      <td>...</td>\n",
       "    </tr>\n",
       "    <tr>\n",
       "      <th>156</th>\n",
       "      <td>Zeri</td>\n",
       "      <td>415</td>\n",
       "      <td>942</td>\n",
       "      <td>44.06</td>\n",
       "    </tr>\n",
       "    <tr>\n",
       "      <th>157</th>\n",
       "      <td>Ziggs</td>\n",
       "      <td>869</td>\n",
       "      <td>1629</td>\n",
       "      <td>53.35</td>\n",
       "    </tr>\n",
       "    <tr>\n",
       "      <th>158</th>\n",
       "      <td>Zilean</td>\n",
       "      <td>910</td>\n",
       "      <td>1735</td>\n",
       "      <td>52.45</td>\n",
       "    </tr>\n",
       "    <tr>\n",
       "      <th>159</th>\n",
       "      <td>Zoe</td>\n",
       "      <td>625</td>\n",
       "      <td>1265</td>\n",
       "      <td>49.41</td>\n",
       "    </tr>\n",
       "    <tr>\n",
       "      <th>160</th>\n",
       "      <td>Zyra</td>\n",
       "      <td>1358</td>\n",
       "      <td>2576</td>\n",
       "      <td>52.72</td>\n",
       "    </tr>\n",
       "  </tbody>\n",
       "</table>\n",
       "<p>161 rows × 4 columns</p>\n",
       "</div>"
      ],
      "text/plain": [
       "    ChampionName  gamesWon  total  percentage\n",
       "0         Aatrox      2491   4924       50.59\n",
       "1           Ahri      1383   2843       48.65\n",
       "2          Akali      2590   5410       47.87\n",
       "3         Akshan       820   1694       48.41\n",
       "4        Alistar       567   1135       49.96\n",
       "..           ...       ...    ...         ...\n",
       "156         Zeri       415    942       44.06\n",
       "157        Ziggs       869   1629       53.35\n",
       "158       Zilean       910   1735       52.45\n",
       "159          Zoe       625   1265       49.41\n",
       "160         Zyra      1358   2576       52.72\n",
       "\n",
       "[161 rows x 4 columns]"
      ]
     },
     "execution_count": 31,
     "metadata": {},
     "output_type": "execute_result"
    }
   ],
   "source": [
    "# win rate for each champoin\n",
    "sql3 = (\"SELECT ch.championName, COUNT(m.winner) as games_won_by_champ FROM Champions as ch JOIN Participants as p on ch.championId = p.championId JOIN Matches as m on p.matchId = m.matchId WHERE m.winner = p.teamId GROUP BY ch.championName ORDER BY championName ASC\")\n",
    "df1 = pd.read_sql(sql3, con = db_conn)\n",
    "# print(df)\n",
    "sql4 = \"select Champions.championName, count(*) as total from Participants join Champions on Participants.championId == Champions.championId join Matches on Matches.matchId == Participants.matchId group by championName Order BY championName\"\n",
    "df2 = pd.read_sql(sql4, con = db_conn)\n",
    "# print(df2)\n",
    "dataframe = pd.DataFrame().assign(ChampionName=df1['championName'], gamesWon=df1['games_won_by_champ'], total=df2['total'])\n",
    "dataframe['percentage'] = np.nan\n",
    "dataframe['percentage'] = dataframe['gamesWon']/dataframe['total'] * 100\n",
    "dataframe['percentage'] = dataframe['percentage'].apply(lambda x: round(x, 2))\n",
    "dataframe\n"
   ]
  },
  {
   "cell_type": "code",
   "execution_count": null,
   "id": "2843647e",
   "metadata": {},
   "outputs": [],
   "source": []
  },
  {
   "cell_type": "code",
   "execution_count": null,
   "id": "97cef1a1",
   "metadata": {},
   "outputs": [],
   "source": []
  },
  {
   "cell_type": "code",
   "execution_count": null,
   "id": "3540f29e",
   "metadata": {},
   "outputs": [],
   "source": []
  },
  {
   "cell_type": "code",
   "execution_count": null,
   "id": "56b66239",
   "metadata": {},
   "outputs": [],
   "source": []
  }
 ],
 "metadata": {
  "kernelspec": {
   "display_name": "Python 3 (ipykernel)",
   "language": "python",
   "name": "python3"
  },
  "language_info": {
   "codemirror_mode": {
    "name": "ipython",
    "version": 3
   },
   "file_extension": ".py",
   "mimetype": "text/x-python",
   "name": "python",
   "nbconvert_exporter": "python",
   "pygments_lexer": "ipython3",
   "version": "3.10.4"
  }
 },
 "nbformat": 4,
 "nbformat_minor": 5
}
